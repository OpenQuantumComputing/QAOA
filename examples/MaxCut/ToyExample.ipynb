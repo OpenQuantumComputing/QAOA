{
 "cells": [
  {
   "cell_type": "markdown",
   "id": "671aa2a8",
   "metadata": {},
   "source": [
    "# QAOA for Max Cut, Toy Example\n",
    "In this notebook the QAOA method is used to solve a small max cut problem. The quantum circuit used is shown and the approximation ratio for depth = 1 is  computed. \n",
    "\n",
    "# Importing necessary modules"
   ]
  },
  {
   "cell_type": "code",
   "execution_count": 1,
   "id": "9d7c8cb4-436d-49c2-8d6f-f516cbd4907b",
   "metadata": {},
   "outputs": [
    {
     "ename": "ModuleNotFoundError",
     "evalue": "No module named 'qaoa.mixers.x_ixer'",
     "output_type": "error",
     "traceback": [
      "\u001b[0;31m---------------------------------------------------------------------------\u001b[0m",
      "\u001b[0;31mModuleNotFoundError\u001b[0m                       Traceback (most recent call last)",
      "Cell \u001b[0;32mIn[1], line 1\u001b[0m\n\u001b[0;32m----> 1\u001b[0m \u001b[38;5;28;01mfrom\u001b[39;00m \u001b[38;5;21;01mqaoa\u001b[39;00m \u001b[38;5;28;01mimport\u001b[39;00m QAOA, problems, mixers, initialstates\n",
      "File \u001b[0;32m~/OpenQuantumComputing/QAOA/qaoa/__init__.py:1\u001b[0m\n\u001b[0;32m----> 1\u001b[0m \u001b[38;5;28;01mfrom\u001b[39;00m \u001b[38;5;21;01m.\u001b[39;00m\u001b[38;5;21;01mqaoa\u001b[39;00m \u001b[38;5;28;01mimport\u001b[39;00m QAOA\n\u001b[1;32m      3\u001b[0m \u001b[38;5;28;01mfrom\u001b[39;00m \u001b[38;5;21;01m.\u001b[39;00m \u001b[38;5;28;01mimport\u001b[39;00m mixers\n\u001b[1;32m      4\u001b[0m \u001b[38;5;28;01mfrom\u001b[39;00m \u001b[38;5;21;01m.\u001b[39;00m \u001b[38;5;28;01mimport\u001b[39;00m problems\n",
      "File \u001b[0;32m~/OpenQuantumComputing/QAOA/qaoa/qaoa.py:15\u001b[0m\n\u001b[1;32m     12\u001b[0m \u001b[38;5;28;01mfrom\u001b[39;00m \u001b[38;5;21;01mqiskit\u001b[39;00m\u001b[38;5;21;01m.\u001b[39;00m\u001b[38;5;21;01malgorithms\u001b[39;00m\u001b[38;5;21;01m.\u001b[39;00m\u001b[38;5;21;01moptimizers\u001b[39;00m \u001b[38;5;28;01mimport\u001b[39;00m COBYLA\n\u001b[1;32m     14\u001b[0m \u001b[38;5;28;01mfrom\u001b[39;00m \u001b[38;5;21;01mqaoa\u001b[39;00m\u001b[38;5;21;01m.\u001b[39;00m\u001b[38;5;21;01minitialstates\u001b[39;00m \u001b[38;5;28;01mimport\u001b[39;00m InitialState\n\u001b[0;32m---> 15\u001b[0m \u001b[38;5;28;01mfrom\u001b[39;00m \u001b[38;5;21;01mqaoa\u001b[39;00m\u001b[38;5;21;01m.\u001b[39;00m\u001b[38;5;21;01mmixers\u001b[39;00m \u001b[38;5;28;01mimport\u001b[39;00m Mixer\n\u001b[1;32m     16\u001b[0m \u001b[38;5;28;01mfrom\u001b[39;00m \u001b[38;5;21;01mqaoa\u001b[39;00m\u001b[38;5;21;01m.\u001b[39;00m\u001b[38;5;21;01mproblems\u001b[39;00m \u001b[38;5;28;01mimport\u001b[39;00m Problem\n\u001b[1;32m     17\u001b[0m \u001b[38;5;28;01mfrom\u001b[39;00m \u001b[38;5;21;01mqaoa\u001b[39;00m\u001b[38;5;21;01m.\u001b[39;00m\u001b[38;5;21;01mutil\u001b[39;00m \u001b[38;5;28;01mimport\u001b[39;00m Statistic\n",
      "File \u001b[0;32m~/OpenQuantumComputing/QAOA/qaoa/mixers/__init__.py:3\u001b[0m\n\u001b[1;32m      1\u001b[0m \u001b[38;5;28;01mfrom\u001b[39;00m \u001b[38;5;21;01m.\u001b[39;00m\u001b[38;5;21;01mbase_mixer\u001b[39;00m \u001b[38;5;28;01mimport\u001b[39;00m Mixer\n\u001b[1;32m      2\u001b[0m \u001b[38;5;28;01mfrom\u001b[39;00m \u001b[38;5;21;01m.\u001b[39;00m\u001b[38;5;21;01mxy_mixer\u001b[39;00m \u001b[38;5;28;01mimport\u001b[39;00m XY\n\u001b[0;32m----> 3\u001b[0m \u001b[38;5;28;01mfrom\u001b[39;00m \u001b[38;5;21;01m.\u001b[39;00m\u001b[38;5;21;01mx_ixer\u001b[39;00m \u001b[38;5;28;01mimport\u001b[39;00m X\n\u001b[1;32m      4\u001b[0m \u001b[38;5;28;01mfrom\u001b[39;00m \u001b[38;5;21;01m.\u001b[39;00m\u001b[38;5;21;01mgrover_mixer\u001b[39;00m \u001b[38;5;28;01mimport\u001b[39;00m Grover\n\u001b[1;32m      5\u001b[0m \u001b[38;5;28;01mfrom\u001b[39;00m \u001b[38;5;21;01m.\u001b[39;00m\u001b[38;5;21;01mconstrained_mixer\u001b[39;00m \u001b[38;5;28;01mimport\u001b[39;00m Constrained\n",
      "\u001b[0;31mModuleNotFoundError\u001b[0m: No module named 'qaoa.mixers.x_ixer'"
     ]
    }
   ],
   "source": [
    "from qaoa import QAOA, problems, mixers, initialstates"
   ]
  },
  {
   "cell_type": "code",
   "execution_count": null,
   "id": "33b78e87-8804-401c-bc34-9952aeff7c96",
   "metadata": {},
   "outputs": [],
   "source": [
    "from qiskit import *\n",
    "import numpy as np\n",
    "import networkx as nx\n",
    "\n",
    "import matplotlib.pyplot as pl\n",
    "from mpl_toolkits.axes_grid1 import make_axes_locatable\n",
    "from qiskit.visualization import *"
   ]
  },
  {
   "cell_type": "markdown",
   "id": "afc54384-89ef-474e-aa49-b43a9896726f",
   "metadata": {},
   "source": [
    "# Creating problem instance"
   ]
  },
  {
   "cell_type": "code",
   "execution_count": null,
   "id": "eaa8c8a1",
   "metadata": {},
   "outputs": [],
   "source": [
    "V = np.arange(0,5,1)\n",
    "E = [(0,1,1.0),(0,2,1.0),(1,2,1.0),(3,2,1.0),(3,4,1.0),(4,2,1.0)] \n",
    "\n",
    "G = nx.Graph()\n",
    "G.add_nodes_from(V)\n",
    "G.add_weighted_edges_from(E)\n",
    "\n",
    "pos = nx.spring_layout(G)\n",
    "nx.draw_networkx(G,pos=pos)\n",
    "k_cuts=2"
   ]
  },
  {
   "cell_type": "markdown",
   "id": "062c6b9b-cbe7-4cf1-abb4-50218cc06228",
   "metadata": {},
   "source": [
    "# Creating a QAOA instance and drawing the quantum circuit\n",
    "Below the quantum circuit for the QAOA method is shown. The circuit corresponds to preparation of the $\\gamma$ and $\\beta$ dependent state: $|\\gamma, \\beta\\rangle = e^{-iH_{M}\\beta}e^{-iH_C\\gamma}|0\\rangle $, where $|0\\rangle$ is the equal superposition over all computational basis states prepared by the hadamard gates. $H_M$ and $H_C$ are the standar X-mixer and the cost hamiltonian respectively."
   ]
  },
  {
   "cell_type": "code",
   "execution_count": null,
   "id": "75d8e6d2",
   "metadata": {},
   "outputs": [],
   "source": [
    "qaoamc = QAOA(\n",
    "    initialstate=initialstates.Plus(),\n",
    "    problem=problems.MaxCut(G=G),\n",
    "    mixer=mixers.X()\n",
    ")"
   ]
  },
  {
   "cell_type": "code",
   "execution_count": null,
   "id": "1d5a6d2f-7a80-4c55-a1d9-d72ade683061",
   "metadata": {},
   "outputs": [],
   "source": [
    "qaoamc.createParameterizedCircuit(1) #createParameterizedCircuit(depth) must be called to create circuit before drawing.\n",
    "qaoamc.parameterized_circuit.draw(output = 'mpl')\n",
    "# qaoamc.initialstate.circuit.draw('mpl')\n",
    "# qaoamc.mixer.circuit.draw('mpl')\n",
    "# qaoamc.problem.circuit.draw('mpl')"
   ]
  },
  {
   "cell_type": "markdown",
   "id": "3ae9ce75-30ca-499d-b7cf-35fc1936a9e6",
   "metadata": {},
   "source": [
    "# Sample and plot cost landscape\n",
    "\n",
    "The cost landscape is sampled using angles $\\gamma, \\beta$ $\\in$ $[0, \\frac{\\pi}{2}]$. In the plot a maximum and minimum of the cost function is seen. The cost landscape is periodic with period $\\frac{\\pi}{2}$ in $\\beta$."
   ]
  },
  {
   "cell_type": "code",
   "execution_count": null,
   "id": "f10939f8",
   "metadata": {},
   "outputs": [],
   "source": [
    "qaoamc.sample_cost_landscape(angles={\"gamma\": [0,np.pi/2,10], \"beta\": [0,np.pi/2,10]})\n",
    "f = pl.figure(figsize=(6, 6), dpi= 80, facecolor='w', edgecolor='k');\n",
    "_=pl.xlabel(r'$\\gamma$')\n",
    "_=pl.ylabel(r'$\\beta$')\n",
    "ax = pl.gca()\n",
    "_=pl.title('Expectation value')\n",
    "im = ax.imshow(qaoamc.E,interpolation='bicubic',origin='lower',extent=[0,np.pi/2,0,np.pi/2])\n",
    "divider = make_axes_locatable(ax)\n",
    "cax = divider.append_axes(\"right\", size=\"5%\", pad=0.05)\n",
    "_=pl.colorbar(im, cax=cax)"
   ]
  },
  {
   "cell_type": "markdown",
   "id": "811ee919-4b85-47b3-9e0a-f005016b6164",
   "metadata": {},
   "source": [
    "# Search for the best parameters at depth = 1 and plot histogram\n",
    "The values for the parameters $\\gamma$ and $\\beta$ are found by the optimizer, and the circuit is then measured 2048 times. The measurement outcomes are seen in the histogram below."
   ]
  },
  {
   "cell_type": "code",
   "execution_count": null,
   "id": "5cb4fea4",
   "metadata": {},
   "outputs": [],
   "source": [
    "qaoamc.increase_depth() #Search for the best parameters at depth = 1\n",
    "histogram = qaoamc.hist(qaoamc.angles_hist['d'+str(1)+'_final']) \n",
    "plot_histogram(histogram)\n"
   ]
  },
  {
   "cell_type": "markdown",
   "id": "5a2eb3ff",
   "metadata": {},
   "source": [
    "# Compute and print approximation ratio\n",
    "Below the approximation ratio is found using that the maximum cut for the given problem is 4."
   ]
  },
  {
   "cell_type": "code",
   "execution_count": null,
   "id": "1dcab539",
   "metadata": {},
   "outputs": [],
   "source": [
    "best_cost = 4\n",
    "print(\"approximation ratio=\", -list(qaoamc.costval.values())[0]/best_cost) "
   ]
  }
 ],
 "metadata": {
  "kernelspec": {
   "display_name": "Python 3 (ipykernel)",
   "language": "python",
   "name": "python3"
  },
  "language_info": {
   "codemirror_mode": {
    "name": "ipython",
    "version": 3
   },
   "file_extension": ".py",
   "mimetype": "text/x-python",
   "name": "python",
   "nbconvert_exporter": "python",
   "pygments_lexer": "ipython3",
   "version": "3.11.4"
  }
 },
 "nbformat": 4,
 "nbformat_minor": 5
}
