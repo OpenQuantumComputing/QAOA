{
 "cells": [
  {
   "cell_type": "markdown",
   "id": "1a499371",
   "metadata": {},
   "source": [
    "# Validating QUBO Circuit\n",
    "\n",
    "Here, we aim to validate that the quantum circuit used to represent a generic Quadratic Unconstrained Binary Optimization (QUBO) problem is indeed equivalent to the corresponding cost function."
   ]
  },
  {
   "cell_type": "code",
   "execution_count": 1,
   "id": "4fef4a78",
   "metadata": {},
   "outputs": [],
   "source": [
    "try:\n",
    "    from qaoa import QAOA, problems, mixers, initialstates, util\n",
    "except ImportError:\n",
    "    from qaoa import QAOA, problems, mixers, initialstates, util\n",
    "\n",
    "import os\n",
    "import sys\n",
    "\n",
    "from qaoa.util.plotroutines import *\n",
    "from matplotlib import pyplot as plt\n",
    "import numpy as np\n",
    "\n",
    "import itertools"
   ]
  },
  {
   "cell_type": "code",
   "execution_count": 2,
   "id": "b49a6862",
   "metadata": {},
   "outputs": [
    {
     "name": "stdout",
     "output_type": "stream",
     "text": [
      "[[ 3  0  0]\n",
      " [-2 -1  0]\n",
      " [-3  0 -3]]\n",
      "[-1  2 -3]\n"
     ]
    }
   ],
   "source": [
    "Q = -np.array([[-3, 0, 0], [2, 1, 0], [3, 0, 3]])\n",
    "print(Q)\n",
    "c = -np.array([1, -2, 3])\n",
    "print(c)\n",
    "b = 0.0\n",
    "\n",
    "Q_comb = -np.array([[-2, 0, 0], [2, -1, 0], [3, 0, 6]])\n",
    "Q_2 = -np.array([[1, 0], [0, 2]])\n",
    "Q_2_full = np.array([[1, 3], [3, 2]])\n",
    "\n",
    "Q_big = np.random.rand(8,8)\n",
    "Q_big_sym = 10*(Q_big + Q_big.T)\n",
    "\n",
    "big_c = 3*(np.random.rand(8)-0.5)\n",
    "\n",
    "qubo_problem = problems.QUBO(Q, c, b)\n",
    "qubo_problem_comb = problems.QUBO(Q_comb)\n",
    "qubo_problem2 = problems.QUBO(Q_2)\n",
    "qubo_problem2_full = problems.QUBO(Q_2_full)\n",
    "\n",
    "qubo_big_full_sym = problems.QUBO(Q_big_sym)\n",
    "qubo_big_full_asym = problems.QUBO(Q_big)\n",
    "\n",
    "qubo_big_asym_with_c = problems.QUBO(Q_big, big_c)\n"
   ]
  },
  {
   "cell_type": "code",
   "execution_count": 3,
   "id": "3a564b39",
   "metadata": {},
   "outputs": [
    {
     "name": "stdout",
     "output_type": "stream",
     "text": [
      "000 -0.0 -0.0\n",
      "001 6.0 6.0\n",
      "010 -1.0 -1.0\n",
      "011 5.0 5.0\n",
      "100 -2.0 -2.0\n",
      "101 7.0 7.0\n",
      "110 -1.0 -1.0\n",
      "111 8.0 8.0\n",
      "00 -0.0 -0.0\n",
      "01 2.0 -2.0\n",
      "10 1.0 -1.0\n",
      "11 3.0 -9.0\n"
     ]
    }
   ],
   "source": [
    "bitstring = util.validation._bitstring\n",
    "n = 3\n",
    "for i in range(2**n):\n",
    "    bs = bitstring(i, n)\n",
    "    print(bs, qubo_problem.cost(bs), qubo_problem_comb.cost(bs))\n",
    "\n",
    "for i in range(2**2):\n",
    "    bs = bitstring(i, 2)\n",
    "    print(bs, qubo_problem2.cost(bs), qubo_problem2_full.cost(bs))"
   ]
  },
  {
   "cell_type": "code",
   "execution_count": 4,
   "id": "b8525e29",
   "metadata": {},
   "outputs": [],
   "source": [
    "\n",
    "qaoa = QAOA(\n",
    "    initialstate=initialstates.Plus(),\n",
    "    problem=qubo_problem,\n",
    "    mixer=mixers.X()\n",
    "    )\n",
    "qaoa2 = QAOA(\n",
    "    initialstate=initialstates.Plus(),\n",
    "    problem=qubo_problem2,\n",
    "    mixer=mixers.X()\n",
    "    )\n",
    "qaoa2_full = QAOA(\n",
    "    initialstate=initialstates.Plus(),\n",
    "    problem=qubo_problem2_full,\n",
    "    mixer=mixers.X()\n",
    "    )\n",
    "\n",
    "qaoa_big_sym = QAOA(\n",
    "    initialstate=initialstates.Plus(),\n",
    "    problem=qubo_big_full_sym,\n",
    "    mixer=mixers.X()\n",
    "    )\n",
    "qaoa_big_asym = QAOA(\n",
    "    initialstate=initialstates.Plus(),\n",
    "    problem=qubo_big_full_asym,\n",
    "    mixer=mixers.X()\n",
    "    )\n",
    "qaoa_comb = QAOA(\n",
    "    initialstate=initialstates.Plus(),\n",
    "    problem=qubo_problem_comb,\n",
    "    mixer=mixers.X()\n",
    "    )\n",
    "\n",
    "qaoa_big_asym_with_c = QAOA(\n",
    "    initialstate=initialstates.Plus(),\n",
    "    problem=qubo_big_asym_with_c,\n",
    "    mixer=mixers.X()\n",
    ")\n",
    "\n",
    "# qaoa.validate_circuit()"
   ]
  },
  {
   "cell_type": "code",
   "execution_count": 5,
   "id": "a7de560e",
   "metadata": {},
   "outputs": [
    {
     "name": "stdout",
     "output_type": "stream",
     "text": [
      "\u001b[2m2025-09-11 14:47:23\u001b[0m [\u001b[32m\u001b[1minfo     \u001b[0m] \u001b[1mCreating parameterized cirquit for generic QUBO problem\u001b[0m \u001b[36mfile\u001b[0m=\u001b[35mqaoa.problems.qubo_problem\u001b[0m\n"
     ]
    },
    {
     "data": {
      "text/plain": [
       "(np.True_,\n",
       " {'n_qubits': 3,\n",
       "  'max_magnitude_error': 2.220446049250313e-16,\n",
       "  'max_phase_error_rad_after_global': 1.5175952767906853e-16,\n",
       "  'global_phase_rad': -2.75})"
      ]
     },
     "execution_count": 5,
     "metadata": {},
     "output_type": "execute_result"
    }
   ],
   "source": [
    "qaoa.validate_circuit()"
   ]
  },
  {
   "cell_type": "code",
   "execution_count": 6,
   "id": "6b6bbe21",
   "metadata": {},
   "outputs": [
    {
     "data": {
      "text/plain": [
       "array([[-1,  0],\n",
       "       [ 0, -2]])"
      ]
     },
     "execution_count": 6,
     "metadata": {},
     "output_type": "execute_result"
    }
   ],
   "source": [
    "qaoa2.problem.QUBO_Q"
   ]
  },
  {
   "cell_type": "code",
   "execution_count": 7,
   "id": "822129ed",
   "metadata": {},
   "outputs": [
    {
     "data": {
      "text/plain": [
       "array([[1, 3],\n",
       "       [3, 2]])"
      ]
     },
     "execution_count": 7,
     "metadata": {},
     "output_type": "execute_result"
    }
   ],
   "source": [
    "qaoa2_full.problem.QUBO_Q"
   ]
  },
  {
   "cell_type": "code",
   "execution_count": 8,
   "id": "251cf9fd",
   "metadata": {},
   "outputs": [
    {
     "name": "stdout",
     "output_type": "stream",
     "text": [
      "\u001b[2m2025-09-11 14:47:23\u001b[0m [\u001b[32m\u001b[1minfo     \u001b[0m] \u001b[1mCreating parameterized cirquit for generic QUBO problem\u001b[0m \u001b[36mfile\u001b[0m=\u001b[35mqaoa.problems.qubo_problem\u001b[0m\n"
     ]
    },
    {
     "data": {
      "text/plain": [
       "(np.True_,\n",
       " {'n_qubits': 2,\n",
       "  'max_magnitude_error': 2.220446049250313e-16,\n",
       "  'max_phase_error_rad_after_global': 1.245872138710481e-16,\n",
       "  'global_phase_rad': -1.5})"
      ]
     },
     "execution_count": 8,
     "metadata": {},
     "output_type": "execute_result"
    }
   ],
   "source": [
    "qaoa2.validate_circuit()"
   ]
  },
  {
   "cell_type": "code",
   "execution_count": 9,
   "id": "189e56d9",
   "metadata": {},
   "outputs": [
    {
     "name": "stdout",
     "output_type": "stream",
     "text": [
      "\u001b[2m2025-09-11 14:47:23\u001b[0m [\u001b[32m\u001b[1minfo     \u001b[0m] \u001b[1mCreating parameterized cirquit for generic QUBO problem\u001b[0m \u001b[36mfile\u001b[0m=\u001b[35mqaoa.problems.qubo_problem\u001b[0m\n"
     ]
    },
    {
     "data": {
      "text/plain": [
       "(np.True_,\n",
       " {'n_qubits': 2,\n",
       "  'max_magnitude_error': 0.0,\n",
       "  'max_phase_error_rad_after_global': 2.802661385663196e-16,\n",
       "  'global_phase_rad': 3.0})"
      ]
     },
     "execution_count": 9,
     "metadata": {},
     "output_type": "execute_result"
    }
   ],
   "source": [
    "qaoa2_full.validate_circuit()"
   ]
  },
  {
   "cell_type": "code",
   "execution_count": 10,
   "id": "f6202e94",
   "metadata": {},
   "outputs": [
    {
     "name": "stdout",
     "output_type": "stream",
     "text": [
      "\u001b[2m2025-09-11 14:47:23\u001b[0m [\u001b[32m\u001b[1minfo     \u001b[0m] \u001b[1mCreating parameterized cirquit for generic QUBO problem\u001b[0m \u001b[36mfile\u001b[0m=\u001b[35mqaoa.problems.qubo_problem\u001b[0m\n"
     ]
    },
    {
     "data": {
      "text/plain": [
       "(np.True_,\n",
       " {'n_qubits': 8,\n",
       "  'max_magnitude_error': 7.771561172376096e-16,\n",
       "  'max_phase_error_rad_after_global': 1.3361715807303482e-13,\n",
       "  'global_phase_rad': 1.4605132598486603})"
      ]
     },
     "execution_count": 10,
     "metadata": {},
     "output_type": "execute_result"
    }
   ],
   "source": [
    "qaoa_big_sym.validate_circuit()"
   ]
  },
  {
   "cell_type": "code",
   "execution_count": 11,
   "id": "c3f4f83c",
   "metadata": {},
   "outputs": [
    {
     "name": "stdout",
     "output_type": "stream",
     "text": [
      "\u001b[2m2025-09-11 14:47:23\u001b[0m [\u001b[32m\u001b[1minfo     \u001b[0m] \u001b[1mCreating parameterized cirquit for generic QUBO problem\u001b[0m \u001b[36mfile\u001b[0m=\u001b[35mqaoa.problems.qubo_problem\u001b[0m\n"
     ]
    },
    {
     "data": {
      "text/plain": [
       "(np.True_,\n",
       " {'n_qubits': 3,\n",
       "  'max_magnitude_error': 2.220446049250313e-16,\n",
       "  'max_phase_error_rad_after_global': 1.5175952767906853e-16,\n",
       "  'global_phase_rad': -2.75})"
      ]
     },
     "execution_count": 11,
     "metadata": {},
     "output_type": "execute_result"
    }
   ],
   "source": [
    "qaoa_comb.validate_circuit()"
   ]
  },
  {
   "cell_type": "code",
   "execution_count": 12,
   "id": "19668ffa",
   "metadata": {},
   "outputs": [
    {
     "name": "stdout",
     "output_type": "stream",
     "text": [
      "\u001b[2m2025-09-11 14:47:24\u001b[0m [\u001b[32m\u001b[1minfo     \u001b[0m] \u001b[1mCreating parameterized cirquit for generic QUBO problem\u001b[0m \u001b[36mfile\u001b[0m=\u001b[35mqaoa.problems.qubo_problem\u001b[0m\n"
     ]
    },
    {
     "data": {
      "text/plain": [
       "(np.True_,\n",
       " {'n_qubits': 8,\n",
       "  'max_magnitude_error': 1.1102230246251565e-15,\n",
       "  'max_phase_error_rad_after_global': 4.415714755339061e-15,\n",
       "  'global_phase_rad': -3.0685669905973607})"
      ]
     },
     "execution_count": 12,
     "metadata": {},
     "output_type": "execute_result"
    }
   ],
   "source": [
    "qaoa_big_asym.validate_circuit()"
   ]
  },
  {
   "cell_type": "code",
   "execution_count": 13,
   "id": "c085d8e4",
   "metadata": {},
   "outputs": [
    {
     "name": "stdout",
     "output_type": "stream",
     "text": [
      "\u001b[2m2025-09-11 14:47:24\u001b[0m [\u001b[32m\u001b[1minfo     \u001b[0m] \u001b[1mCreating parameterized cirquit for generic QUBO problem\u001b[0m \u001b[36mfile\u001b[0m=\u001b[35mqaoa.problems.qubo_problem\u001b[0m\n"
     ]
    },
    {
     "data": {
      "text/plain": [
       "(np.True_,\n",
       " {'n_qubits': 8,\n",
       "  'max_magnitude_error': 1.1102230246251565e-15,\n",
       "  'max_phase_error_rad_after_global': 3.902016428558049e-15,\n",
       "  'global_phase_rad': 2.0408355078454874})"
      ]
     },
     "execution_count": 13,
     "metadata": {},
     "output_type": "execute_result"
    }
   ],
   "source": [
    "qaoa_big_asym_with_c.validate_circuit()"
   ]
  }
 ],
 "metadata": {
  "kernelspec": {
   "display_name": "qaoa-env",
   "language": "python",
   "name": "python3"
  },
  "language_info": {
   "codemirror_mode": {
    "name": "ipython",
    "version": 3
   },
   "file_extension": ".py",
   "mimetype": "text/x-python",
   "name": "python",
   "nbconvert_exporter": "python",
   "pygments_lexer": "ipython3",
   "version": "3.11.13"
  }
 },
 "nbformat": 4,
 "nbformat_minor": 5
}
